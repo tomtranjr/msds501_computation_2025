{
 "cells": [
  {
   "attachments": {},
   "cell_type": "markdown",
   "id": "cce3db75-1aad-4086-9264-2d09e1c182cb",
   "metadata": {
    "tags": []
   },
   "source": [
    "## palindrome\n",
    "For a given sentence (input), create a function called find_palindrome_words() takes a string and return a list of strings that are palindrome words. A palindrome word remains the same when read forwards and backwards.\n",
    "\n",
    "Ex. pop, Noon\n",
    "\n",
    "<b> Note: </b> Complete the function with docstrings and function annotations."
   ]
  },
  {
   "cell_type": "code",
   "execution_count": 9,
   "id": "609fca4b-54a7-47b5-82cf-bceefc41b748",
   "metadata": {},
   "outputs": [],
   "source": [
    "def find_palindrome_words(my_str: str) -> list:\n",
    "    result = []\n",
    "    for word in my_str.split(\" \"):\n",
    "      i = [char.lower() for char in word]\n",
    "      j = [char.lower() for char in word[::-1]]\n",
    "      if i == j:\n",
    "        result.append(word)\n",
    "    return result\n",
    "\n",
    "def find_palindrome_words_1(my_str: str) -> list:\n",
    "    result = []\n",
    "    for word in my_str.split(\" \"):\n",
    "      if word.lower() == word[::-1].lower():\n",
    "        result.append(word)\n",
    "    return result"
   ]
  },
  {
   "cell_type": "code",
   "execution_count": 10,
   "id": "c72e185d-32ee-4263-ab0e-b266aef9a4ae",
   "metadata": {},
   "outputs": [
    {
     "name": "stdout",
     "output_type": "stream",
     "text": [
      "['I', 'did', 'a', 'tot', 'pop', 'Noon']\n",
      "['I', 'did', 'a', 'tot', 'pop', 'Noon']\n"
     ]
    }
   ],
   "source": [
    "input_sentence = 'I did not like to listen a tot pop at Noon'\n",
    "print(find_palindrome_words(input_sentence))\n",
    "print(find_palindrome_words_1(input_sentence))"
   ]
  },
  {
   "cell_type": "code",
   "execution_count": 11,
   "id": "545da86b-b402-4466-bc0c-46edf48a9801",
   "metadata": {},
   "outputs": [
    {
     "name": "stdout",
     "output_type": "stream",
     "text": [
      "['I', 'did', 'a', 'tot', 'pop', 'Noon']\n",
      "['I', 'did', 'a', 'tot', 'pop', 'Noon']\n"
     ]
    }
   ],
   "source": [
    "input_sentence = 'I did not like to listen a tot pop at Noon'\n",
    "print(find_palindrome_words(input_sentence))\n",
    "print(find_palindrome_words_1(input_sentence))"
   ]
  },
  {
   "cell_type": "code",
   "execution_count": null,
   "id": "7a8010de",
   "metadata": {},
   "outputs": [],
   "source": []
  }
 ],
 "metadata": {
  "kernelspec": {
   "display_name": "eda",
   "language": "python",
   "name": "python3"
  },
  "language_info": {
   "codemirror_mode": {
    "name": "ipython",
    "version": 3
   },
   "file_extension": ".py",
   "mimetype": "text/x-python",
   "name": "python",
   "nbconvert_exporter": "python",
   "pygments_lexer": "ipython3",
   "version": "3.13.5"
  }
 },
 "nbformat": 4,
 "nbformat_minor": 5
}
